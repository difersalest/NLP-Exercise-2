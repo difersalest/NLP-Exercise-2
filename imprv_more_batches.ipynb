{
 "cells": [
  {
   "cell_type": "markdown",
   "metadata": {},
   "source": [
    "# LSTM-arithmetic\n",
    "\n",
    "## Dataset\n",
    "- [Arithmetic dataset](https://drive.google.com/file/d/1cMuL3hF9jefka9RyF4gEBIGGeFGZYHE-/view?usp=sharing)"
   ]
  },
  {
   "cell_type": "code",
   "execution_count": null,
   "metadata": {},
   "outputs": [],
   "source": [
    "# ! pip install seaborn\n",
    "# ! pip install opencc\n",
    "# ! pip install -U scikit-learn\n",
    "\n",
    "import numpy as np\n",
    "import pandas as pd\n",
    "import torch\n",
    "import torch.nn\n",
    "import torch.nn.utils.rnn\n",
    "import torch.utils.data\n",
    "import matplotlib.pyplot as plt\n",
    "import seaborn as sns\n",
    "import opencc\n",
    "import os\n",
    "from sklearn.model_selection import train_test_split\n",
    "\n",
    "data_path = './data'"
   ]
  },
  {
   "cell_type": "code",
   "execution_count": 2,
   "metadata": {},
   "outputs": [
    {
     "data": {
      "text/html": [
       "<div>\n",
       "<style scoped>\n",
       "    .dataframe tbody tr th:only-of-type {\n",
       "        vertical-align: middle;\n",
       "    }\n",
       "\n",
       "    .dataframe tbody tr th {\n",
       "        vertical-align: top;\n",
       "    }\n",
       "\n",
       "    .dataframe thead th {\n",
       "        text-align: right;\n",
       "    }\n",
       "</style>\n",
       "<table border=\"1\" class=\"dataframe\">\n",
       "  <thead>\n",
       "    <tr style=\"text-align: right;\">\n",
       "      <th></th>\n",
       "      <th>src</th>\n",
       "      <th>tgt</th>\n",
       "    </tr>\n",
       "  </thead>\n",
       "  <tbody>\n",
       "    <tr>\n",
       "      <th>0</th>\n",
       "      <td>14*(43+20)=</td>\n",
       "      <td>882</td>\n",
       "    </tr>\n",
       "    <tr>\n",
       "      <th>1</th>\n",
       "      <td>(6+1)*5=</td>\n",
       "      <td>35</td>\n",
       "    </tr>\n",
       "    <tr>\n",
       "      <th>2</th>\n",
       "      <td>13+32+29=</td>\n",
       "      <td>74</td>\n",
       "    </tr>\n",
       "    <tr>\n",
       "      <th>3</th>\n",
       "      <td>31*(3-11)=</td>\n",
       "      <td>-248</td>\n",
       "    </tr>\n",
       "    <tr>\n",
       "      <th>4</th>\n",
       "      <td>24*49+1=</td>\n",
       "      <td>1177</td>\n",
       "    </tr>\n",
       "  </tbody>\n",
       "</table>\n",
       "</div>"
      ],
      "text/plain": [
       "           src   tgt\n",
       "0  14*(43+20)=   882\n",
       "1     (6+1)*5=    35\n",
       "2    13+32+29=    74\n",
       "3   31*(3-11)=  -248\n",
       "4     24*49+1=  1177"
      ]
     },
     "execution_count": 2,
     "metadata": {},
     "output_type": "execute_result"
    }
   ],
   "source": [
    "df_train = pd.read_csv(os.path.join(data_path, 'arithmetic_train.csv'))\n",
    "df_eval = pd.read_csv(os.path.join(data_path, 'arithmetic_eval.csv'))\n",
    "df_train.head()"
   ]
  },
  {
   "cell_type": "code",
   "execution_count": 3,
   "metadata": {},
   "outputs": [
    {
     "data": {
      "text/html": [
       "<div>\n",
       "<style scoped>\n",
       "    .dataframe tbody tr th:only-of-type {\n",
       "        vertical-align: middle;\n",
       "    }\n",
       "\n",
       "    .dataframe tbody tr th {\n",
       "        vertical-align: top;\n",
       "    }\n",
       "\n",
       "    .dataframe thead th {\n",
       "        text-align: right;\n",
       "    }\n",
       "</style>\n",
       "<table border=\"1\" class=\"dataframe\">\n",
       "  <thead>\n",
       "    <tr style=\"text-align: right;\">\n",
       "      <th></th>\n",
       "      <th>src</th>\n",
       "      <th>tgt</th>\n",
       "      <th>len</th>\n",
       "    </tr>\n",
       "  </thead>\n",
       "  <tbody>\n",
       "    <tr>\n",
       "      <th>0</th>\n",
       "      <td>14*(43+20)=882</td>\n",
       "      <td>882</td>\n",
       "      <td>14</td>\n",
       "    </tr>\n",
       "    <tr>\n",
       "      <th>1</th>\n",
       "      <td>(6+1)*5=35</td>\n",
       "      <td>35</td>\n",
       "      <td>10</td>\n",
       "    </tr>\n",
       "    <tr>\n",
       "      <th>2</th>\n",
       "      <td>13+32+29=74</td>\n",
       "      <td>74</td>\n",
       "      <td>11</td>\n",
       "    </tr>\n",
       "    <tr>\n",
       "      <th>3</th>\n",
       "      <td>31*(3-11)=-248</td>\n",
       "      <td>-248</td>\n",
       "      <td>14</td>\n",
       "    </tr>\n",
       "    <tr>\n",
       "      <th>4</th>\n",
       "      <td>24*49+1=1177</td>\n",
       "      <td>1177</td>\n",
       "      <td>12</td>\n",
       "    </tr>\n",
       "    <tr>\n",
       "      <th>...</th>\n",
       "      <td>...</td>\n",
       "      <td>...</td>\n",
       "      <td>...</td>\n",
       "    </tr>\n",
       "    <tr>\n",
       "      <th>2369245</th>\n",
       "      <td>1+(37*8)=297</td>\n",
       "      <td>297</td>\n",
       "      <td>12</td>\n",
       "    </tr>\n",
       "    <tr>\n",
       "      <th>2369246</th>\n",
       "      <td>37-25-19=-7</td>\n",
       "      <td>-7</td>\n",
       "      <td>11</td>\n",
       "    </tr>\n",
       "    <tr>\n",
       "      <th>2369247</th>\n",
       "      <td>7+39-40=6</td>\n",
       "      <td>6</td>\n",
       "      <td>9</td>\n",
       "    </tr>\n",
       "    <tr>\n",
       "      <th>2369248</th>\n",
       "      <td>27-28-12=-13</td>\n",
       "      <td>-13</td>\n",
       "      <td>12</td>\n",
       "    </tr>\n",
       "    <tr>\n",
       "      <th>2369249</th>\n",
       "      <td>31+(35-43)=23</td>\n",
       "      <td>23</td>\n",
       "      <td>13</td>\n",
       "    </tr>\n",
       "  </tbody>\n",
       "</table>\n",
       "<p>2369250 rows × 3 columns</p>\n",
       "</div>"
      ],
      "text/plain": [
       "                    src   tgt  len\n",
       "0        14*(43+20)=882   882   14\n",
       "1            (6+1)*5=35    35   10\n",
       "2           13+32+29=74    74   11\n",
       "3        31*(3-11)=-248  -248   14\n",
       "4          24*49+1=1177  1177   12\n",
       "...                 ...   ...  ...\n",
       "2369245    1+(37*8)=297   297   12\n",
       "2369246     37-25-19=-7    -7   11\n",
       "2369247       7+39-40=6     6    9\n",
       "2369248    27-28-12=-13   -13   12\n",
       "2369249   31+(35-43)=23    23   13\n",
       "\n",
       "[2369250 rows x 3 columns]"
      ]
     },
     "execution_count": 3,
     "metadata": {},
     "output_type": "execute_result"
    }
   ],
   "source": [
    "# transform the input data to string\n",
    "df_train['tgt'] = df_train['tgt'].apply(lambda x: str(x))\n",
    "df_train['src'] = df_train['src'].add(df_train['tgt'])\n",
    "df_train['len'] = df_train['src'].apply(lambda x: len(x))\n",
    "df_train"
   ]
  },
  {
   "cell_type": "code",
   "execution_count": 4,
   "metadata": {},
   "outputs": [
    {
     "data": {
      "text/html": [
       "<div>\n",
       "<style scoped>\n",
       "    .dataframe tbody tr th:only-of-type {\n",
       "        vertical-align: middle;\n",
       "    }\n",
       "\n",
       "    .dataframe tbody tr th {\n",
       "        vertical-align: top;\n",
       "    }\n",
       "\n",
       "    .dataframe thead th {\n",
       "        text-align: right;\n",
       "    }\n",
       "</style>\n",
       "<table border=\"1\" class=\"dataframe\">\n",
       "  <thead>\n",
       "    <tr style=\"text-align: right;\">\n",
       "      <th></th>\n",
       "      <th>src</th>\n",
       "      <th>tgt</th>\n",
       "      <th>len</th>\n",
       "    </tr>\n",
       "  </thead>\n",
       "  <tbody>\n",
       "    <tr>\n",
       "      <th>0</th>\n",
       "      <td>48+43+34=</td>\n",
       "      <td>125</td>\n",
       "      <td>9</td>\n",
       "    </tr>\n",
       "    <tr>\n",
       "      <th>1</th>\n",
       "      <td>30-(48+13)=</td>\n",
       "      <td>-31</td>\n",
       "      <td>11</td>\n",
       "    </tr>\n",
       "    <tr>\n",
       "      <th>2</th>\n",
       "      <td>(21*31)+10=</td>\n",
       "      <td>661</td>\n",
       "      <td>11</td>\n",
       "    </tr>\n",
       "    <tr>\n",
       "      <th>3</th>\n",
       "      <td>2-27-10=</td>\n",
       "      <td>-35</td>\n",
       "      <td>8</td>\n",
       "    </tr>\n",
       "    <tr>\n",
       "      <th>4</th>\n",
       "      <td>(15*20)+24=</td>\n",
       "      <td>324</td>\n",
       "      <td>11</td>\n",
       "    </tr>\n",
       "    <tr>\n",
       "      <th>...</th>\n",
       "      <td>...</td>\n",
       "      <td>...</td>\n",
       "      <td>...</td>\n",
       "    </tr>\n",
       "    <tr>\n",
       "      <th>263245</th>\n",
       "      <td>14*43*23=</td>\n",
       "      <td>13846</td>\n",
       "      <td>9</td>\n",
       "    </tr>\n",
       "    <tr>\n",
       "      <th>263246</th>\n",
       "      <td>48-(5*27)=</td>\n",
       "      <td>-87</td>\n",
       "      <td>10</td>\n",
       "    </tr>\n",
       "    <tr>\n",
       "      <th>263247</th>\n",
       "      <td>30*42+16=</td>\n",
       "      <td>1276</td>\n",
       "      <td>9</td>\n",
       "    </tr>\n",
       "    <tr>\n",
       "      <th>263248</th>\n",
       "      <td>21*(10-15)=</td>\n",
       "      <td>-105</td>\n",
       "      <td>11</td>\n",
       "    </tr>\n",
       "    <tr>\n",
       "      <th>263249</th>\n",
       "      <td>(12*37)+4=</td>\n",
       "      <td>448</td>\n",
       "      <td>10</td>\n",
       "    </tr>\n",
       "  </tbody>\n",
       "</table>\n",
       "<p>263250 rows × 3 columns</p>\n",
       "</div>"
      ],
      "text/plain": [
       "                src    tgt  len\n",
       "0         48+43+34=    125    9\n",
       "1       30-(48+13)=    -31   11\n",
       "2       (21*31)+10=    661   11\n",
       "3          2-27-10=    -35    8\n",
       "4       (15*20)+24=    324   11\n",
       "...             ...    ...  ...\n",
       "263245    14*43*23=  13846    9\n",
       "263246   48-(5*27)=    -87   10\n",
       "263247    30*42+16=   1276    9\n",
       "263248  21*(10-15)=   -105   11\n",
       "263249   (12*37)+4=    448   10\n",
       "\n",
       "[263250 rows x 3 columns]"
      ]
     },
     "execution_count": 4,
     "metadata": {},
     "output_type": "execute_result"
    }
   ],
   "source": [
    "df_eval['tgt'] = df_eval['tgt'].apply(lambda x: str(x))\n",
    "df_eval['len'] = df_eval['src'].apply(lambda x: len(x))\n",
    "df_eval"
   ]
  },
  {
   "cell_type": "markdown",
   "metadata": {},
   "source": [
    "# Build Dictionary\n",
    " - The model cannot perform calculations directly with plain text.\n",
    " - Convert all text (numbers/symbols) into numerical representations.\n",
    " - Special tokens\n",
    "    - '&lt;pad&gt;'\n",
    "        - Each sentence within a batch may have different lengths.\n",
    "        - The length is padded with '&lt;pad&gt;' to match the longest sentence in the batch.\n",
    "    - '&lt;eos&gt;'\n",
    "        - Specifies the end of the generated sequence.\n",
    "        - Without '&lt;eos&gt;', the model will not know when to stop generating."
   ]
  },
  {
   "cell_type": "code",
   "execution_count": 5,
   "metadata": {},
   "outputs": [
    {
     "name": "stdout",
     "output_type": "stream",
     "text": [
      "Vocab size: 18\n"
     ]
    }
   ],
   "source": [
    "char_to_id = {}\n",
    "id_to_char = {}\n",
    "\n",
    "# write your code here\n",
    "# Build a dictionary and give every token in the train dataset an id\n",
    "# The dictionary should contain <eos> and <pad>\n",
    "# char_to_id is to conver charactors to ids, while id_to_char is the opposite\n",
    "char_to_id = {}\n",
    "id_to_char = {}\n",
    "chars = set()\n",
    "\n",
    "for row in df_train.itertuples(index=True, name='Row'):\n",
    "    for char in row.tgt:\n",
    "        if char not in chars:\n",
    "            chars.update(char)\n",
    "    for char in row.src:\n",
    "        if char not in chars:\n",
    "            chars.update(char)\n",
    "\n",
    "for row in df_eval.itertuples(index=True, name='Row'):\n",
    "    for char in row.tgt:\n",
    "        if char not in chars:\n",
    "            chars.update(char)\n",
    "    for char in row.src:\n",
    "        if char not in chars:\n",
    "            chars.update(char)\n",
    "    \n",
    "len(chars)\n",
    "\n",
    "char_to_id = {'<pad>': 0, '<eos>': 1}\n",
    "id_to_char = {0: '<pad>', 1: '<eos>'}\n",
    "\n",
    "cur_idx = 2\n",
    "\n",
    "for char in chars:\n",
    "    char_to_id[char] = cur_idx\n",
    "    id_to_char[cur_idx] = char\n",
    "    cur_idx += 1\n",
    "\n",
    "vocab_size = len(char_to_id)\n",
    "print('Vocab size: {}'.format(vocab_size))"
   ]
  },
  {
   "cell_type": "code",
   "execution_count": 6,
   "metadata": {},
   "outputs": [
    {
     "data": {
      "text/plain": [
       "{'<pad>': 0,\n",
       " '<eos>': 1,\n",
       " '+': 2,\n",
       " '(': 3,\n",
       " '8': 4,\n",
       " '2': 5,\n",
       " '0': 6,\n",
       " '3': 7,\n",
       " '1': 8,\n",
       " '9': 9,\n",
       " '6': 10,\n",
       " '7': 11,\n",
       " '=': 12,\n",
       " '5': 13,\n",
       " '*': 14,\n",
       " ')': 15,\n",
       " '4': 16,\n",
       " '-': 17}"
      ]
     },
     "execution_count": 6,
     "metadata": {},
     "output_type": "execute_result"
    }
   ],
   "source": [
    "char_to_id"
   ]
  },
  {
   "cell_type": "code",
   "execution_count": 7,
   "metadata": {},
   "outputs": [
    {
     "data": {
      "text/plain": [
       "{0: '<pad>',\n",
       " 1: '<eos>',\n",
       " 2: '+',\n",
       " 3: '(',\n",
       " 4: '8',\n",
       " 5: '2',\n",
       " 6: '0',\n",
       " 7: '3',\n",
       " 8: '1',\n",
       " 9: '9',\n",
       " 10: '6',\n",
       " 11: '7',\n",
       " 12: '=',\n",
       " 13: '5',\n",
       " 14: '*',\n",
       " 15: ')',\n",
       " 16: '4',\n",
       " 17: '-'}"
      ]
     },
     "execution_count": 7,
     "metadata": {},
     "output_type": "execute_result"
    }
   ],
   "source": [
    "id_to_char"
   ]
  },
  {
   "cell_type": "markdown",
   "metadata": {},
   "source": [
    "# Data Preprocessing\n",
    " - The data is processed into the format required for the model's input and output. (End with \\<eos\\> token)\n"
   ]
  },
  {
   "cell_type": "code",
   "execution_count": 8,
   "metadata": {},
   "outputs": [
    {
     "name": "stderr",
     "output_type": "stream",
     "text": [
      "  0%|          | 0/2369250 [00:00<?, ?it/s]"
     ]
    },
    {
     "name": "stderr",
     "output_type": "stream",
     "text": [
      "100%|██████████| 2369250/2369250 [00:03<00:00, 609310.28it/s]\n",
      "100%|██████████| 2369250/2369250 [00:28<00:00, 84607.52it/s]\n"
     ]
    },
    {
     "data": {
      "text/html": [
       "<div>\n",
       "<style scoped>\n",
       "    .dataframe tbody tr th:only-of-type {\n",
       "        vertical-align: middle;\n",
       "    }\n",
       "\n",
       "    .dataframe tbody tr th {\n",
       "        vertical-align: top;\n",
       "    }\n",
       "\n",
       "    .dataframe thead th {\n",
       "        text-align: right;\n",
       "    }\n",
       "</style>\n",
       "<table border=\"1\" class=\"dataframe\">\n",
       "  <thead>\n",
       "    <tr style=\"text-align: right;\">\n",
       "      <th></th>\n",
       "      <th>src</th>\n",
       "      <th>tgt</th>\n",
       "      <th>len</th>\n",
       "      <th>char_id_list</th>\n",
       "      <th>label_id_list</th>\n",
       "    </tr>\n",
       "  </thead>\n",
       "  <tbody>\n",
       "    <tr>\n",
       "      <th>0</th>\n",
       "      <td>14*(43+20)=882</td>\n",
       "      <td>882</td>\n",
       "      <td>14</td>\n",
       "      <td>[8, 16, 14, 3, 16, 7, 2, 5, 6, 15, 12, 4, 4, 5...</td>\n",
       "      <td>[0, 0, 0, 0, 0, 0, 0, 0, 0, 0, 0, 4, 4, 5, 1]</td>\n",
       "    </tr>\n",
       "    <tr>\n",
       "      <th>1</th>\n",
       "      <td>(6+1)*5=35</td>\n",
       "      <td>35</td>\n",
       "      <td>10</td>\n",
       "      <td>[3, 10, 2, 8, 15, 14, 13, 12, 7, 13, 1]</td>\n",
       "      <td>[0, 0, 0, 0, 0, 0, 0, 0, 7, 13, 1]</td>\n",
       "    </tr>\n",
       "    <tr>\n",
       "      <th>2</th>\n",
       "      <td>13+32+29=74</td>\n",
       "      <td>74</td>\n",
       "      <td>11</td>\n",
       "      <td>[8, 7, 2, 7, 5, 2, 5, 9, 12, 11, 16, 1]</td>\n",
       "      <td>[0, 0, 0, 0, 0, 0, 0, 0, 0, 11, 16, 1]</td>\n",
       "    </tr>\n",
       "    <tr>\n",
       "      <th>3</th>\n",
       "      <td>31*(3-11)=-248</td>\n",
       "      <td>-248</td>\n",
       "      <td>14</td>\n",
       "      <td>[7, 8, 14, 3, 7, 17, 8, 8, 15, 12, 17, 5, 16, ...</td>\n",
       "      <td>[0, 0, 0, 0, 0, 0, 0, 0, 0, 0, 17, 5, 16, 4, 1]</td>\n",
       "    </tr>\n",
       "    <tr>\n",
       "      <th>4</th>\n",
       "      <td>24*49+1=1177</td>\n",
       "      <td>1177</td>\n",
       "      <td>12</td>\n",
       "      <td>[5, 16, 14, 16, 9, 2, 8, 12, 8, 8, 11, 11, 1]</td>\n",
       "      <td>[0, 0, 0, 0, 0, 0, 0, 0, 8, 8, 11, 11, 1]</td>\n",
       "    </tr>\n",
       "  </tbody>\n",
       "</table>\n",
       "</div>"
      ],
      "text/plain": [
       "              src   tgt  len  \\\n",
       "0  14*(43+20)=882   882   14   \n",
       "1      (6+1)*5=35    35   10   \n",
       "2     13+32+29=74    74   11   \n",
       "3  31*(3-11)=-248  -248   14   \n",
       "4    24*49+1=1177  1177   12   \n",
       "\n",
       "                                        char_id_list  \\\n",
       "0  [8, 16, 14, 3, 16, 7, 2, 5, 6, 15, 12, 4, 4, 5...   \n",
       "1            [3, 10, 2, 8, 15, 14, 13, 12, 7, 13, 1]   \n",
       "2            [8, 7, 2, 7, 5, 2, 5, 9, 12, 11, 16, 1]   \n",
       "3  [7, 8, 14, 3, 7, 17, 8, 8, 15, 12, 17, 5, 16, ...   \n",
       "4      [5, 16, 14, 16, 9, 2, 8, 12, 8, 8, 11, 11, 1]   \n",
       "\n",
       "                                     label_id_list  \n",
       "0    [0, 0, 0, 0, 0, 0, 0, 0, 0, 0, 0, 4, 4, 5, 1]  \n",
       "1               [0, 0, 0, 0, 0, 0, 0, 0, 7, 13, 1]  \n",
       "2           [0, 0, 0, 0, 0, 0, 0, 0, 0, 11, 16, 1]  \n",
       "3  [0, 0, 0, 0, 0, 0, 0, 0, 0, 0, 17, 5, 16, 4, 1]  \n",
       "4        [0, 0, 0, 0, 0, 0, 0, 0, 8, 8, 11, 11, 1]  "
      ]
     },
     "execution_count": 8,
     "metadata": {},
     "output_type": "execute_result"
    }
   ],
   "source": [
    "from tqdm import tqdm\n",
    "tqdm.pandas()\n",
    "# Write your code here\n",
    "df_train[\"char_id_list\"] = None\n",
    "df_train[\"label_id_list\"] = None\n",
    "\n",
    "def create_char_id_list(src_str, char_to_id):\n",
    "    char_ids = []\n",
    "    for char in src_str:\n",
    "        char_ids.append(char_to_id[char])\n",
    "    char_ids.append(char_to_id[\"<eos>\"])\n",
    "    return char_ids\n",
    "\n",
    "def create_label_id_list(row, char_to_id):\n",
    "    label_ids = []\n",
    "\n",
    "    for char in row.tgt:\n",
    "        label_ids.append(char_to_id[char])\n",
    "    label_ids.append(char_to_id[\"<eos>\"])\n",
    "\n",
    "    dif_length = row.len - len(str(row.tgt))\n",
    "\n",
    "    for _ in range(dif_length):\n",
    "        label_ids.insert(0, char_to_id[\"<pad>\"])\n",
    "\n",
    "    return label_ids\n",
    "\n",
    "# I used gemini due to inefficient for loop logic before, it suggested to me the use of the \"apply\" format for internal pandas processing\n",
    "# The rest of the logic I implemented it with basic list and dictionary manipulation, so I just converted the logic to functions to work with \"apply\"\n",
    "# In this case is \"progress_apply\" because I wanted to observe the progress with tqdm\n",
    "df_train[\"char_id_list\"] = df_train[\"src\"].progress_apply(lambda x: create_char_id_list(x, char_to_id))\n",
    "\n",
    "df_train[\"label_id_list\"] = df_train.progress_apply(lambda row: create_label_id_list(row, char_to_id), axis=1)\n",
    "\n",
    "df_train.head()"
   ]
  },
  {
   "cell_type": "code",
   "execution_count": 9,
   "metadata": {},
   "outputs": [
    {
     "name": "stderr",
     "output_type": "stream",
     "text": [
      "100%|██████████| 263250/263250 [00:00<00:00, 364252.48it/s]\n",
      "100%|██████████| 263250/263250 [00:02<00:00, 91797.18it/s]\n"
     ]
    },
    {
     "data": {
      "text/html": [
       "<div>\n",
       "<style scoped>\n",
       "    .dataframe tbody tr th:only-of-type {\n",
       "        vertical-align: middle;\n",
       "    }\n",
       "\n",
       "    .dataframe tbody tr th {\n",
       "        vertical-align: top;\n",
       "    }\n",
       "\n",
       "    .dataframe thead th {\n",
       "        text-align: right;\n",
       "    }\n",
       "</style>\n",
       "<table border=\"1\" class=\"dataframe\">\n",
       "  <thead>\n",
       "    <tr style=\"text-align: right;\">\n",
       "      <th></th>\n",
       "      <th>src</th>\n",
       "      <th>tgt</th>\n",
       "      <th>len</th>\n",
       "      <th>char_id_list</th>\n",
       "      <th>label_id_list</th>\n",
       "    </tr>\n",
       "  </thead>\n",
       "  <tbody>\n",
       "    <tr>\n",
       "      <th>0</th>\n",
       "      <td>48+43+34=</td>\n",
       "      <td>125</td>\n",
       "      <td>9</td>\n",
       "      <td>[16, 4, 2, 16, 7, 2, 7, 16, 12, 1]</td>\n",
       "      <td>[0, 0, 0, 0, 0, 0, 8, 5, 13, 1]</td>\n",
       "    </tr>\n",
       "    <tr>\n",
       "      <th>1</th>\n",
       "      <td>30-(48+13)=</td>\n",
       "      <td>-31</td>\n",
       "      <td>11</td>\n",
       "      <td>[7, 6, 17, 3, 16, 4, 2, 8, 7, 15, 12, 1]</td>\n",
       "      <td>[0, 0, 0, 0, 0, 0, 0, 0, 17, 7, 8, 1]</td>\n",
       "    </tr>\n",
       "    <tr>\n",
       "      <th>2</th>\n",
       "      <td>(21*31)+10=</td>\n",
       "      <td>661</td>\n",
       "      <td>11</td>\n",
       "      <td>[3, 5, 8, 14, 7, 8, 15, 2, 8, 6, 12, 1]</td>\n",
       "      <td>[0, 0, 0, 0, 0, 0, 0, 0, 10, 10, 8, 1]</td>\n",
       "    </tr>\n",
       "    <tr>\n",
       "      <th>3</th>\n",
       "      <td>2-27-10=</td>\n",
       "      <td>-35</td>\n",
       "      <td>8</td>\n",
       "      <td>[5, 17, 5, 11, 17, 8, 6, 12, 1]</td>\n",
       "      <td>[0, 0, 0, 0, 0, 17, 7, 13, 1]</td>\n",
       "    </tr>\n",
       "    <tr>\n",
       "      <th>4</th>\n",
       "      <td>(15*20)+24=</td>\n",
       "      <td>324</td>\n",
       "      <td>11</td>\n",
       "      <td>[3, 8, 13, 14, 5, 6, 15, 2, 5, 16, 12, 1]</td>\n",
       "      <td>[0, 0, 0, 0, 0, 0, 0, 0, 7, 5, 16, 1]</td>\n",
       "    </tr>\n",
       "  </tbody>\n",
       "</table>\n",
       "</div>"
      ],
      "text/plain": [
       "           src  tgt  len                               char_id_list  \\\n",
       "0    48+43+34=  125    9         [16, 4, 2, 16, 7, 2, 7, 16, 12, 1]   \n",
       "1  30-(48+13)=  -31   11   [7, 6, 17, 3, 16, 4, 2, 8, 7, 15, 12, 1]   \n",
       "2  (21*31)+10=  661   11    [3, 5, 8, 14, 7, 8, 15, 2, 8, 6, 12, 1]   \n",
       "3     2-27-10=  -35    8            [5, 17, 5, 11, 17, 8, 6, 12, 1]   \n",
       "4  (15*20)+24=  324   11  [3, 8, 13, 14, 5, 6, 15, 2, 5, 16, 12, 1]   \n",
       "\n",
       "                            label_id_list  \n",
       "0         [0, 0, 0, 0, 0, 0, 8, 5, 13, 1]  \n",
       "1   [0, 0, 0, 0, 0, 0, 0, 0, 17, 7, 8, 1]  \n",
       "2  [0, 0, 0, 0, 0, 0, 0, 0, 10, 10, 8, 1]  \n",
       "3           [0, 0, 0, 0, 0, 17, 7, 13, 1]  \n",
       "4   [0, 0, 0, 0, 0, 0, 0, 0, 7, 5, 16, 1]  "
      ]
     },
     "execution_count": 9,
     "metadata": {},
     "output_type": "execute_result"
    }
   ],
   "source": [
    "from tqdm import tqdm\n",
    "tqdm.pandas()\n",
    "\n",
    "df_eval[\"char_id_list\"] = None\n",
    "df_eval[\"label_id_list\"] = None\n",
    "\n",
    "def create_char_id_list(src_str, char_to_id):\n",
    "    char_ids = []\n",
    "    for char in src_str:\n",
    "        char_ids.append(char_to_id[char])\n",
    "    char_ids.append(char_to_id[\"<eos>\"])\n",
    "    return char_ids\n",
    "\n",
    "def create_label_id_list(row, char_to_id):\n",
    "    label_ids = []\n",
    "\n",
    "    for char in row.tgt:\n",
    "        label_ids.append(char_to_id[char])\n",
    "    label_ids.append(char_to_id[\"<eos>\"])\n",
    "\n",
    "    dif_length = row.len - len(str(row.tgt))\n",
    "\n",
    "    for _ in range(dif_length):\n",
    "        label_ids.insert(0, char_to_id[\"<pad>\"])\n",
    "\n",
    "    return label_ids\n",
    "\n",
    "# I used gemini due to inefficient for loop logic before, it suggested to me the use of the \"apply\" format for internal pandas processing\n",
    "# The rest of the logic I implemented it with basic list and dictionary manipulation, so I just converted the logic to functions to work with \"apply\"\n",
    "# In this case is \"progress_apply\" because I wanted to observe the progress with tqdm\n",
    "df_eval[\"char_id_list\"] = df_eval[\"src\"].progress_apply(lambda x: create_char_id_list(x, char_to_id))\n",
    "\n",
    "df_eval[\"label_id_list\"] = df_eval.progress_apply(lambda row: create_label_id_list(row, char_to_id), axis=1)\n",
    "\n",
    "df_eval.head()"
   ]
  },
  {
   "cell_type": "markdown",
   "metadata": {},
   "source": [
    "# Hyper Parameters\n",
    "\n",
    "|Hyperparameter|Meaning|Value|\n",
    "|-|-|-|\n",
    "|`batch_size`|Number of data samples in a single batch|64|\n",
    "|`epochs`|Total number of epochs to train|10|\n",
    "|`embed_dim`|Dimension of the word embeddings|256|\n",
    "|`hidden_dim`|Dimension of the hidden state in each timestep of the LSTM|256|\n",
    "|`lr`|Learning Rate|0.001|\n",
    "|`grad_clip`|To prevent gradient explosion in RNNs, restrict the gradient range|1|"
   ]
  },
  {
   "cell_type": "code",
   "execution_count": 10,
   "metadata": {},
   "outputs": [],
   "source": [
    "batch_size = 64\n",
    "epochs = 2\n",
    "embed_dim = 256\n",
    "hidden_dim = 256\n",
    "lr = 0.001\n",
    "grad_clip = 1"
   ]
  },
  {
   "cell_type": "markdown",
   "metadata": {},
   "source": [
    "# Data Batching\n",
    "- Use `torch.utils.data.Dataset` to create a data generation tool called  `dataset`.\n",
    "- The, use `torch.utils.data.DataLoader` to randomly sample from the `dataset` and group the samples into batches.\n",
    "\n",
    "- Example: 1+2-3=0\n",
    "    - Model input: 1 + 2 - 3 = 0\n",
    "    - Model output: / / / / / 0 &lt;eos&gt;  (the '/' can be replaced with &lt;pad&gt;)\n",
    "    - The key for the model's output is that the model does not need to predict the next character of the previous part. What matters is that once the model sees '=', it should start generating the answer, which is '0'. After generating the answer, it should also generate&lt;eos&gt;"
   ]
  },
  {
   "cell_type": "code",
   "execution_count": 11,
   "metadata": {},
   "outputs": [],
   "source": [
    "class Dataset(torch.utils.data.Dataset):\n",
    "    def __init__(self, sequences):\n",
    "        self.sequences = sequences\n",
    "    \n",
    "    def __len__(self):\n",
    "        # return the amount of data\n",
    "        return len(self.sequences) # Write your code here\n",
    "    \n",
    "    def __getitem__(self, index):\n",
    "        # Extract the input data x and the ground truth y from the data\n",
    "        x = self.sequences.iloc[index][\"char_id_list\"] # Write your code here\n",
    "        y = self.sequences.iloc[index][\"label_id_list\"] # Write your code here\n",
    "        return x, y\n",
    "\n",
    "# collate function, used to build dataloader\n",
    "def collate_fn(batch):\n",
    "    batch_x = [torch.tensor(data[0]) for data in batch]\n",
    "    batch_y = [torch.tensor(data[1]) for data in batch]\n",
    "    batch_x_lens = torch.LongTensor([len(x) for x in batch_x])\n",
    "    batch_y_lens = torch.LongTensor([len(y) for y in batch_y])\n",
    "    \n",
    "    # Pad the input sequence\n",
    "    pad_batch_x = torch.nn.utils.rnn.pad_sequence(batch_x,\n",
    "                                                  batch_first=True,\n",
    "                                                  padding_value=char_to_id['<pad>'])\n",
    "    \n",
    "    pad_batch_y = torch.nn.utils.rnn.pad_sequence(batch_y,\n",
    "                                                  batch_first=True,\n",
    "                                                  padding_value=char_to_id['<pad>'])\n",
    "    \n",
    "    return pad_batch_x, pad_batch_y, batch_x_lens, batch_y_lens"
   ]
  },
  {
   "cell_type": "code",
   "execution_count": 12,
   "metadata": {},
   "outputs": [],
   "source": [
    "ds_train = Dataset(df_train[['char_id_list', 'label_id_list']])"
   ]
  },
  {
   "cell_type": "code",
   "execution_count": 13,
   "metadata": {},
   "outputs": [],
   "source": [
    "# Build dataloader of train set and eval set, collate_fn is the collate function\n",
    "dl_train = torch.utils.data.DataLoader(dataset=ds_train, collate_fn=collate_fn, batch_size=batch_size, shuffle=True, num_workers=32)# Write your code here"
   ]
  },
  {
   "cell_type": "code",
   "execution_count": 14,
   "metadata": {},
   "outputs": [],
   "source": [
    "ds_eval = Dataset(df_eval[['char_id_list', 'label_id_list']])\n",
    "dl_eval = torch.utils.data.DataLoader(dataset=ds_eval, collate_fn=collate_fn, batch_size=batch_size, shuffle=False, num_workers=32)# Write your code here"
   ]
  },
  {
   "cell_type": "markdown",
   "metadata": {},
   "source": [
    "# Model Design\n",
    "\n",
    "## Execution Flow\n",
    "1. Convert all characters in the sentence into embeddings.\n",
    "2. Pass the embeddings through an LSTM sequentially.\n",
    "3. The output of the LSTM is passed into another LSTM, and additional layers can be added.\n",
    "4. The output from all time steps of the final LSTM is passed through a Fully Connected layer.\n",
    "5. The character corresponding to the maximum value across all output dimensions is selected as the next character.\n",
    "\n",
    "## Loss Function\n",
    "Since this is a classification task, Cross Entropy is used as the loss function.\n",
    "\n",
    "## Gradient Update\n",
    "Adam algorithm is used for gradient updates."
   ]
  },
  {
   "cell_type": "code",
   "execution_count": 15,
   "metadata": {},
   "outputs": [],
   "source": [
    "class CharRNN(torch.nn.Module):\n",
    "    def __init__(self, vocab_size, embed_dim, hidden_dim):\n",
    "        super(CharRNN, self).__init__()\n",
    "        \n",
    "        self.embedding = torch.nn.Embedding(num_embeddings=vocab_size,\n",
    "                                            embedding_dim=embed_dim,\n",
    "                                            padding_idx=char_to_id['<pad>'])\n",
    "        \n",
    "        self.rnn_layer1 = torch.nn.LSTM(input_size=embed_dim,\n",
    "                                        hidden_size=hidden_dim,\n",
    "                                        batch_first=True)\n",
    "        \n",
    "        self.rnn_layer2 = torch.nn.LSTM(input_size=hidden_dim,\n",
    "                                        hidden_size=hidden_dim,\n",
    "                                        batch_first=True)\n",
    "        \n",
    "        self.linear = torch.nn.Sequential(torch.nn.Linear(in_features=hidden_dim,\n",
    "                                                          out_features=hidden_dim),\n",
    "                                          torch.nn.ReLU(),\n",
    "                                          torch.nn.Linear(in_features=hidden_dim,\n",
    "                                                          out_features=vocab_size))\n",
    "        \n",
    "    def forward(self, batch_x, batch_x_lens):\n",
    "        return self.encoder(batch_x, batch_x_lens)\n",
    "    \n",
    "    # The forward pass of the model\n",
    "    def encoder(self, batch_x, batch_x_lens):\n",
    "        batch_x = self.embedding(batch_x)\n",
    "        \n",
    "        batch_x = torch.nn.utils.rnn.pack_padded_sequence(batch_x,\n",
    "                                                          batch_x_lens,\n",
    "                                                          batch_first=True,\n",
    "                                                          enforce_sorted=False)\n",
    "        \n",
    "        batch_x, _ = self.rnn_layer1(batch_x)\n",
    "        batch_x, _ = self.rnn_layer2(batch_x)\n",
    "        \n",
    "        batch_x, _ = torch.nn.utils.rnn.pad_packed_sequence(batch_x,\n",
    "                                                            batch_first=True)\n",
    "        \n",
    "        batch_x = self.linear(batch_x)\n",
    "        \n",
    "        return batch_x\n",
    "    \n",
    "    def generator(self, start_char, max_len=200):\n",
    "        \n",
    "        char_list = [char_to_id[c] for c in start_char]\n",
    "        \n",
    "        next_char = None\n",
    "        \n",
    "        while len(char_list) < max_len: \n",
    "            # Write your code here \n",
    "            # Pack the char_list to tensor\n",
    "            device = self.embedding.weight.device\n",
    "            input_tensor = torch.tensor(char_list).unsqueeze(0).to(device)\n",
    "            \n",
    "            # Input the tensor to the embedding layer, LSTM layers, linear respectively\n",
    "            embedding_input = self.embedding(input_tensor)\n",
    "            embedding_input, _ = self.rnn_layer1(embedding_input)\n",
    "            embedding_input, _ = self.rnn_layer2(embedding_input) \n",
    "            y = self.linear(embedding_input)# Obtain the next token prediction y\n",
    "            last_char_logits = y[:, -1, :]\n",
    "            next_char = torch.argmax(last_char_logits, dim=1).item() # Use argmax function to get the next token prediction\n",
    "            \n",
    "            if next_char == char_to_id['<eos>']:\n",
    "                break\n",
    "            \n",
    "            char_list.append(next_char)\n",
    "            \n",
    "        return [id_to_char[ch_id] for ch_id in char_list]"
   ]
  },
  {
   "cell_type": "code",
   "execution_count": 16,
   "metadata": {},
   "outputs": [],
   "source": [
    "torch.manual_seed(2)\n",
    "\n",
    "\n",
    "device = torch.device(\"cuda\") # Write your code here. Specify a device (cuda or cpu)\n",
    "\n",
    "model = CharRNN(vocab_size,\n",
    "                embed_dim,\n",
    "                hidden_dim)"
   ]
  },
  {
   "cell_type": "code",
   "execution_count": 17,
   "metadata": {},
   "outputs": [],
   "source": [
    "criterion = torch.nn.CrossEntropyLoss(reduction='none', ignore_index=char_to_id['<pad>']) # Write your code here. Cross-entropy loss function. The loss function should ignore <pad>\n",
    "optimizer = torch.optim.Adam(model.parameters(), lr = lr)# Write your code here. Use Adam or AdamW for Optimizer"
   ]
  },
  {
   "cell_type": "markdown",
   "metadata": {},
   "source": [
    "# Training\n",
    "1. The outer `for` loop controls the `epoch`\n",
    "    1. The inner `for` loop uses `data_loader` to retrieve batches.\n",
    "        1. Pass the batch to the `model` for training.\n",
    "        2. Compare the predicted results `batch_pred_y` with the true labels `batch_y` using Cross Entropy to calculate the loss `loss`\n",
    "        3. Use `loss.backward` to automatically compute the gradients.\n",
    "        4. Use `torch.nn.utils.clip_grad_value_` to limit the gradient values between `-grad_clip` &lt; and &lt; `grad_clip`.\n",
    "        5. Use `optimizer.step()` to update the model (backpropagation).\n",
    "2.  After every `1000` batches, output the current loss to monitor whether it is converging."
   ]
  },
  {
   "cell_type": "code",
   "execution_count": null,
   "metadata": {},
   "outputs": [
    {
     "name": "stderr",
     "output_type": "stream",
     "text": [
      "Train epoch 1:   3%|▎         | 1011/37020 [00:13<05:52, 102.04it/s, loss=1.15]"
     ]
    },
    {
     "name": "stdout",
     "output_type": "stream",
     "text": [
      "loss: 1.1489059925079346\n"
     ]
    },
    {
     "name": "stderr",
     "output_type": "stream",
     "text": [
      "Train epoch 1:   5%|▌         | 2010/37020 [00:23<05:49, 100.04it/s, loss=0.897]"
     ]
    },
    {
     "name": "stdout",
     "output_type": "stream",
     "text": [
      "loss: 0.8969962000846863\n"
     ]
    },
    {
     "name": "stderr",
     "output_type": "stream",
     "text": [
      "Train epoch 1:   8%|▊         | 3015/37020 [00:35<06:44, 84.07it/s, loss=0.715] "
     ]
    },
    {
     "name": "stdout",
     "output_type": "stream",
     "text": [
      "loss: 0.7151417136192322\n"
     ]
    },
    {
     "name": "stderr",
     "output_type": "stream",
     "text": [
      "Train epoch 1:  11%|█         | 4016/37020 [00:46<06:24, 85.83it/s, loss=0.645] "
     ]
    },
    {
     "name": "stdout",
     "output_type": "stream",
     "text": [
      "loss: 0.6447811126708984\n"
     ]
    },
    {
     "name": "stderr",
     "output_type": "stream",
     "text": [
      "Train epoch 1:  14%|█▎        | 5009/37020 [00:58<06:08, 86.90it/s, loss=0.721]"
     ]
    },
    {
     "name": "stdout",
     "output_type": "stream",
     "text": [
      "loss: 0.7212268710136414\n"
     ]
    },
    {
     "name": "stderr",
     "output_type": "stream",
     "text": [
      "Train epoch 1:  16%|█▋        | 6017/37020 [01:09<05:53, 87.77it/s, loss=0.662]"
     ]
    },
    {
     "name": "stdout",
     "output_type": "stream",
     "text": [
      "loss: 0.6620133519172668\n"
     ]
    },
    {
     "name": "stderr",
     "output_type": "stream",
     "text": [
      "Train epoch 1:  19%|█▉        | 7016/37020 [01:20<05:41, 87.90it/s, loss=0.603]"
     ]
    },
    {
     "name": "stdout",
     "output_type": "stream",
     "text": [
      "loss: 0.6026744842529297\n"
     ]
    },
    {
     "name": "stderr",
     "output_type": "stream",
     "text": [
      "Train epoch 1:  22%|██▏       | 8015/37020 [01:32<05:29, 88.05it/s, loss=0.575]"
     ]
    },
    {
     "name": "stdout",
     "output_type": "stream",
     "text": [
      "loss: 0.5753727555274963\n"
     ]
    },
    {
     "name": "stderr",
     "output_type": "stream",
     "text": [
      "Train epoch 1:  24%|██▍       | 9018/37020 [01:43<04:36, 101.37it/s, loss=0.499]"
     ]
    },
    {
     "name": "stdout",
     "output_type": "stream",
     "text": [
      "loss: 0.4989047944545746\n"
     ]
    },
    {
     "name": "stderr",
     "output_type": "stream",
     "text": [
      "Train epoch 1:  27%|██▋       | 10019/37020 [01:52<04:25, 101.64it/s, loss=0.58]"
     ]
    },
    {
     "name": "stdout",
     "output_type": "stream",
     "text": [
      "loss: 0.5799318552017212\n"
     ]
    },
    {
     "name": "stderr",
     "output_type": "stream",
     "text": [
      "Train epoch 1:  30%|██▉       | 11010/37020 [02:03<05:04, 85.44it/s, loss=0.497] "
     ]
    },
    {
     "name": "stdout",
     "output_type": "stream",
     "text": [
      "loss: 0.4965682923793793\n"
     ]
    },
    {
     "name": "stderr",
     "output_type": "stream",
     "text": [
      "Train epoch 1:  32%|███▏      | 12012/37020 [02:15<04:44, 87.83it/s, loss=0.512]"
     ]
    },
    {
     "name": "stdout",
     "output_type": "stream",
     "text": [
      "loss: 0.5123268961906433\n"
     ]
    },
    {
     "name": "stderr",
     "output_type": "stream",
     "text": [
      "Train epoch 1:  35%|███▌      | 13008/37020 [02:26<04:47, 83.41it/s, loss=0.545]"
     ]
    },
    {
     "name": "stdout",
     "output_type": "stream",
     "text": [
      "loss: 0.5451595783233643\n"
     ]
    },
    {
     "name": "stderr",
     "output_type": "stream",
     "text": [
      "Train epoch 1:  38%|███▊      | 14014/37020 [02:38<04:25, 86.59it/s, loss=0.42] "
     ]
    },
    {
     "name": "stdout",
     "output_type": "stream",
     "text": [
      "loss: 0.42048782110214233\n"
     ]
    },
    {
     "name": "stderr",
     "output_type": "stream",
     "text": [
      "Train epoch 1:  41%|████      | 15013/37020 [02:49<04:12, 86.99it/s, loss=0.43] "
     ]
    },
    {
     "name": "stdout",
     "output_type": "stream",
     "text": [
      "loss: 0.430122047662735\n"
     ]
    },
    {
     "name": "stderr",
     "output_type": "stream",
     "text": [
      "Train epoch 1:  43%|████▎     | 16013/37020 [03:01<04:10, 83.80it/s, loss=0.443]"
     ]
    },
    {
     "name": "stdout",
     "output_type": "stream",
     "text": [
      "loss: 0.4432887136936188\n"
     ]
    },
    {
     "name": "stderr",
     "output_type": "stream",
     "text": [
      "Train epoch 1:  46%|████▌     | 17012/37020 [03:12<03:25, 97.41it/s, loss=0.41] "
     ]
    },
    {
     "name": "stdout",
     "output_type": "stream",
     "text": [
      "loss: 0.4104299545288086\n"
     ]
    },
    {
     "name": "stderr",
     "output_type": "stream",
     "text": [
      "Train epoch 1:  49%|████▊     | 18016/37020 [03:23<03:43, 85.20it/s, loss=0.416]"
     ]
    },
    {
     "name": "stdout",
     "output_type": "stream",
     "text": [
      "loss: 0.41569581627845764\n"
     ]
    },
    {
     "name": "stderr",
     "output_type": "stream",
     "text": [
      "Train epoch 1:  51%|█████▏    | 19010/37020 [03:35<03:31, 84.99it/s, loss=0.349]"
     ]
    },
    {
     "name": "stdout",
     "output_type": "stream",
     "text": [
      "loss: 0.3490268290042877\n"
     ]
    },
    {
     "name": "stderr",
     "output_type": "stream",
     "text": [
      "Train epoch 1:  54%|█████▍    | 20009/37020 [03:46<03:16, 86.78it/s, loss=0.389]"
     ]
    },
    {
     "name": "stdout",
     "output_type": "stream",
     "text": [
      "loss: 0.3891931474208832\n"
     ]
    },
    {
     "name": "stderr",
     "output_type": "stream",
     "text": [
      "Train epoch 1:  57%|█████▋    | 21009/37020 [03:58<03:08, 84.88it/s, loss=0.415]"
     ]
    },
    {
     "name": "stdout",
     "output_type": "stream",
     "text": [
      "loss: 0.4147484004497528\n"
     ]
    },
    {
     "name": "stderr",
     "output_type": "stream",
     "text": [
      "Train epoch 1:  59%|█████▉    | 22017/37020 [04:10<02:40, 93.25it/s, loss=0.424]"
     ]
    },
    {
     "name": "stdout",
     "output_type": "stream",
     "text": [
      "loss: 0.4240357279777527\n"
     ]
    },
    {
     "name": "stderr",
     "output_type": "stream",
     "text": [
      "Train epoch 1:  62%|██████▏   | 23012/37020 [04:21<02:45, 84.62it/s, loss=0.42] "
     ]
    },
    {
     "name": "stdout",
     "output_type": "stream",
     "text": [
      "loss: 0.4200722873210907\n"
     ]
    },
    {
     "name": "stderr",
     "output_type": "stream",
     "text": [
      "Train epoch 1:  65%|██████▍   | 24010/37020 [04:33<02:12, 97.89it/s, loss=0.407]"
     ]
    },
    {
     "name": "stdout",
     "output_type": "stream",
     "text": [
      "loss: 0.4065612554550171\n"
     ]
    },
    {
     "name": "stderr",
     "output_type": "stream",
     "text": [
      "Train epoch 1:  68%|██████▊   | 25013/37020 [04:44<02:21, 85.11it/s, loss=0.404]"
     ]
    },
    {
     "name": "stdout",
     "output_type": "stream",
     "text": [
      "loss: 0.4041553735733032\n"
     ]
    },
    {
     "name": "stderr",
     "output_type": "stream",
     "text": [
      "Train epoch 1:  70%|███████   | 26012/37020 [04:55<02:07, 86.63it/s, loss=0.34] "
     ]
    },
    {
     "name": "stdout",
     "output_type": "stream",
     "text": [
      "loss: 0.3397449254989624\n"
     ]
    },
    {
     "name": "stderr",
     "output_type": "stream",
     "text": [
      "Train epoch 1:  73%|███████▎  | 27012/37020 [05:07<01:58, 84.31it/s, loss=0.424]"
     ]
    },
    {
     "name": "stdout",
     "output_type": "stream",
     "text": [
      "loss: 0.42416054010391235\n"
     ]
    },
    {
     "name": "stderr",
     "output_type": "stream",
     "text": [
      "Train epoch 1:  76%|███████▌  | 28011/37020 [05:18<01:44, 86.52it/s, loss=0.35] "
     ]
    },
    {
     "name": "stdout",
     "output_type": "stream",
     "text": [
      "loss: 0.35015279054641724\n"
     ]
    },
    {
     "name": "stderr",
     "output_type": "stream",
     "text": [
      "Train epoch 1:  78%|███████▊  | 29010/37020 [05:30<01:33, 85.54it/s, loss=0.471]"
     ]
    },
    {
     "name": "stdout",
     "output_type": "stream",
     "text": [
      "loss: 0.471437007188797\n"
     ]
    },
    {
     "name": "stderr",
     "output_type": "stream",
     "text": [
      "Train epoch 1:  81%|████████  | 30014/37020 [05:42<01:19, 87.65it/s, loss=0.316]"
     ]
    },
    {
     "name": "stdout",
     "output_type": "stream",
     "text": [
      "loss: 0.3163517713546753\n"
     ]
    },
    {
     "name": "stderr",
     "output_type": "stream",
     "text": [
      "Train epoch 1:  84%|████████▍ | 31009/37020 [05:53<01:08, 88.13it/s, loss=0.429]"
     ]
    },
    {
     "name": "stdout",
     "output_type": "stream",
     "text": [
      "loss: 0.4291955828666687\n"
     ]
    },
    {
     "name": "stderr",
     "output_type": "stream",
     "text": [
      "Train epoch 1:  86%|████████▋ | 32017/37020 [06:05<00:57, 86.41it/s, loss=0.307]"
     ]
    },
    {
     "name": "stdout",
     "output_type": "stream",
     "text": [
      "loss: 0.3073056936264038\n"
     ]
    },
    {
     "name": "stderr",
     "output_type": "stream",
     "text": [
      "Train epoch 1:  89%|████████▉ | 33015/37020 [06:16<00:47, 85.03it/s, loss=0.322]"
     ]
    },
    {
     "name": "stdout",
     "output_type": "stream",
     "text": [
      "loss: 0.32237616181373596\n"
     ]
    },
    {
     "name": "stderr",
     "output_type": "stream",
     "text": [
      "Train epoch 1:  92%|█████████▏| 34013/37020 [06:27<00:30, 97.74it/s, loss=0.382]"
     ]
    },
    {
     "name": "stdout",
     "output_type": "stream",
     "text": [
      "loss: 0.38188958168029785\n"
     ]
    },
    {
     "name": "stderr",
     "output_type": "stream",
     "text": [
      "Train epoch 1:  95%|█████████▍| 35008/37020 [06:39<00:24, 83.48it/s, loss=0.408] "
     ]
    },
    {
     "name": "stdout",
     "output_type": "stream",
     "text": [
      "loss: 0.40830495953559875\n"
     ]
    },
    {
     "name": "stderr",
     "output_type": "stream",
     "text": [
      "Train epoch 1:  97%|█████████▋| 36009/37020 [06:50<00:11, 86.74it/s, loss=0.327]"
     ]
    },
    {
     "name": "stdout",
     "output_type": "stream",
     "text": [
      "loss: 0.3267054855823517\n"
     ]
    },
    {
     "name": "stderr",
     "output_type": "stream",
     "text": [
      "Train epoch 1: 100%|█████████▉| 37009/37020 [07:02<00:00, 83.56it/s, loss=0.323]"
     ]
    },
    {
     "name": "stdout",
     "output_type": "stream",
     "text": [
      "loss: 0.32262468338012695\n"
     ]
    },
    {
     "name": "stderr",
     "output_type": "stream",
     "text": [
      "Train epoch 1: 100%|██████████| 37020/37020 [07:02<00:00, 87.52it/s, loss=0.323]\n",
      "Validation epoch 1:   0%|          | 1/4114 [00:00<50:08,  1.37it/s]"
     ]
    },
    {
     "name": "stdout",
     "output_type": "stream",
     "text": [
      "prediction: 123\n",
      "batch_y: 125\n",
      "prediction: -31\n",
      "batch_y: -31\n",
      "prediction: 657\n",
      "batch_y: 661\n",
      "prediction: -35\n",
      "batch_y: -35\n",
      "prediction: 324\n",
      "batch_y: 324\n"
     ]
    },
    {
     "name": "stderr",
     "output_type": "stream",
     "text": [
      "Validation epoch 1: 100%|██████████| 4114/4114 [10:32<00:00,  6.50it/s]\n"
     ]
    },
    {
     "name": "stdout",
     "output_type": "stream",
     "text": [
      "EM Accuracy: 0.5800987654320988\n"
     ]
    },
    {
     "name": "stderr",
     "output_type": "stream",
     "text": [
      "Train epoch 2:   3%|▎         | 994/37020 [00:10<06:01, 99.71it/s, loss=0.346]"
     ]
    },
    {
     "name": "stdout",
     "output_type": "stream",
     "text": [
      "loss: 0.3455510437488556\n"
     ]
    },
    {
     "name": "stderr",
     "output_type": "stream",
     "text": [
      "Train epoch 2:   5%|▌         | 1997/37020 [00:22<06:48, 85.65it/s, loss=0.277] "
     ]
    },
    {
     "name": "stdout",
     "output_type": "stream",
     "text": [
      "loss: 0.2768765389919281\n"
     ]
    },
    {
     "name": "stderr",
     "output_type": "stream",
     "text": [
      "Train epoch 2:   8%|▊         | 2988/37020 [00:33<05:31, 102.62it/s, loss=0.286]"
     ]
    },
    {
     "name": "stdout",
     "output_type": "stream",
     "text": [
      "loss: 0.28647223114967346\n"
     ]
    },
    {
     "name": "stderr",
     "output_type": "stream",
     "text": [
      "Train epoch 2:  11%|█         | 3993/37020 [00:44<06:19, 87.05it/s, loss=0.273] "
     ]
    },
    {
     "name": "stdout",
     "output_type": "stream",
     "text": [
      "loss: 0.2725798785686493\n"
     ]
    },
    {
     "name": "stderr",
     "output_type": "stream",
     "text": [
      "Train epoch 2:  13%|█▎        | 4992/37020 [00:56<06:07, 87.24it/s, loss=0.297]"
     ]
    },
    {
     "name": "stdout",
     "output_type": "stream",
     "text": [
      "loss: 0.29731518030166626\n"
     ]
    },
    {
     "name": "stderr",
     "output_type": "stream",
     "text": [
      "Train epoch 2:  16%|█▌        | 5991/37020 [01:07<05:56, 87.07it/s, loss=0.359]"
     ]
    },
    {
     "name": "stdout",
     "output_type": "stream",
     "text": [
      "loss: 0.35894617438316345\n"
     ]
    },
    {
     "name": "stderr",
     "output_type": "stream",
     "text": [
      "Train epoch 2:  19%|█▉        | 6991/37020 [01:18<05:44, 87.28it/s, loss=0.375]"
     ]
    },
    {
     "name": "stdout",
     "output_type": "stream",
     "text": [
      "loss: 0.37510812282562256\n"
     ]
    },
    {
     "name": "stderr",
     "output_type": "stream",
     "text": [
      "Train epoch 2:  22%|██▏       | 7990/37020 [01:30<05:34, 86.76it/s, loss=0.344]"
     ]
    },
    {
     "name": "stdout",
     "output_type": "stream",
     "text": [
      "loss: 0.3442830443382263\n"
     ]
    },
    {
     "name": "stderr",
     "output_type": "stream",
     "text": [
      "Train epoch 2:  24%|██▍       | 8989/37020 [01:41<05:21, 87.24it/s, loss=0.265]"
     ]
    },
    {
     "name": "stdout",
     "output_type": "stream",
     "text": [
      "loss: 0.2647724151611328\n"
     ]
    },
    {
     "name": "stderr",
     "output_type": "stream",
     "text": [
      "Train epoch 2:  27%|██▋       | 9990/37020 [01:53<05:04, 88.77it/s, loss=0.267]"
     ]
    },
    {
     "name": "stdout",
     "output_type": "stream",
     "text": [
      "loss: 0.2666032314300537\n"
     ]
    },
    {
     "name": "stderr",
     "output_type": "stream",
     "text": [
      "Train epoch 2:  30%|██▉       | 10989/37020 [02:04<04:59, 86.87it/s, loss=0.333]"
     ]
    },
    {
     "name": "stdout",
     "output_type": "stream",
     "text": [
      "loss: 0.3327409327030182\n"
     ]
    },
    {
     "name": "stderr",
     "output_type": "stream",
     "text": [
      "Train epoch 2:  32%|███▏      | 11997/37020 [02:16<04:48, 86.79it/s, loss=0.283]"
     ]
    },
    {
     "name": "stdout",
     "output_type": "stream",
     "text": [
      "loss: 0.2832522392272949\n"
     ]
    },
    {
     "name": "stderr",
     "output_type": "stream",
     "text": [
      "Train epoch 2:  35%|███▌      | 12996/37020 [02:27<04:36, 87.00it/s, loss=0.256]"
     ]
    },
    {
     "name": "stdout",
     "output_type": "stream",
     "text": [
      "loss: 0.25589776039123535\n"
     ]
    },
    {
     "name": "stderr",
     "output_type": "stream",
     "text": [
      "Train epoch 2:  38%|███▊      | 13995/37020 [02:39<04:25, 86.70it/s, loss=0.406]"
     ]
    },
    {
     "name": "stdout",
     "output_type": "stream",
     "text": [
      "loss: 0.40641361474990845\n"
     ]
    },
    {
     "name": "stderr",
     "output_type": "stream",
     "text": [
      "Train epoch 2:  41%|████      | 14994/37020 [02:50<04:15, 86.16it/s, loss=0.332]"
     ]
    },
    {
     "name": "stdout",
     "output_type": "stream",
     "text": [
      "loss: 0.33210715651512146\n"
     ]
    },
    {
     "name": "stderr",
     "output_type": "stream",
     "text": [
      "Train epoch 2:  43%|████▎     | 15993/37020 [03:02<04:00, 87.30it/s, loss=0.312]"
     ]
    },
    {
     "name": "stdout",
     "output_type": "stream",
     "text": [
      "loss: 0.31167733669281006\n"
     ]
    },
    {
     "name": "stderr",
     "output_type": "stream",
     "text": [
      "Train epoch 2:  46%|████▌     | 16992/37020 [03:13<03:50, 86.89it/s, loss=0.213]"
     ]
    },
    {
     "name": "stdout",
     "output_type": "stream",
     "text": [
      "loss: 0.21322332322597504\n"
     ]
    },
    {
     "name": "stderr",
     "output_type": "stream",
     "text": [
      "Train epoch 2:  49%|████▊     | 17997/37020 [03:25<03:36, 87.91it/s, loss=0.255]"
     ]
    },
    {
     "name": "stdout",
     "output_type": "stream",
     "text": [
      "loss: 0.25477221608161926\n"
     ]
    },
    {
     "name": "stderr",
     "output_type": "stream",
     "text": [
      "Train epoch 2:  51%|█████▏    | 18990/37020 [03:36<03:27, 86.78it/s, loss=0.332] "
     ]
    },
    {
     "name": "stdout",
     "output_type": "stream",
     "text": [
      "loss: 0.3324606120586395\n"
     ]
    },
    {
     "name": "stderr",
     "output_type": "stream",
     "text": [
      "Train epoch 2:  54%|█████▍    | 19989/37020 [03:47<03:12, 88.41it/s, loss=0.248]"
     ]
    },
    {
     "name": "stdout",
     "output_type": "stream",
     "text": [
      "loss: 0.24840253591537476\n"
     ]
    },
    {
     "name": "stderr",
     "output_type": "stream",
     "text": [
      "Train epoch 2:  57%|█████▋    | 20994/37020 [03:59<03:05, 86.57it/s, loss=0.243]"
     ]
    },
    {
     "name": "stdout",
     "output_type": "stream",
     "text": [
      "loss: 0.2425137162208557\n"
     ]
    },
    {
     "name": "stderr",
     "output_type": "stream",
     "text": [
      "Train epoch 2:  59%|█████▉    | 21993/37020 [04:10<02:53, 86.71it/s, loss=0.358]"
     ]
    },
    {
     "name": "stdout",
     "output_type": "stream",
     "text": [
      "loss: 0.35764366388320923\n"
     ]
    },
    {
     "name": "stderr",
     "output_type": "stream",
     "text": [
      "Train epoch 2:  62%|██████▏   | 22992/37020 [04:22<02:42, 86.53it/s, loss=0.249]"
     ]
    },
    {
     "name": "stdout",
     "output_type": "stream",
     "text": [
      "loss: 0.24911117553710938\n"
     ]
    },
    {
     "name": "stderr",
     "output_type": "stream",
     "text": [
      "Train epoch 2:  65%|██████▍   | 23991/37020 [04:33<02:29, 86.87it/s, loss=0.332]"
     ]
    },
    {
     "name": "stdout",
     "output_type": "stream",
     "text": [
      "loss: 0.33163174986839294\n"
     ]
    },
    {
     "name": "stderr",
     "output_type": "stream",
     "text": [
      "Train epoch 2:  68%|██████▊   | 24993/37020 [04:45<02:20, 85.72it/s, loss=0.265]"
     ]
    },
    {
     "name": "stdout",
     "output_type": "stream",
     "text": [
      "loss: 0.26529932022094727\n"
     ]
    },
    {
     "name": "stderr",
     "output_type": "stream",
     "text": [
      "Train epoch 2:  70%|███████   | 25992/37020 [04:57<02:08, 85.93it/s, loss=0.308]"
     ]
    },
    {
     "name": "stdout",
     "output_type": "stream",
     "text": [
      "loss: 0.3075273633003235\n"
     ]
    },
    {
     "name": "stderr",
     "output_type": "stream",
     "text": [
      "Train epoch 2:  73%|███████▎  | 26992/37020 [05:09<01:59, 84.16it/s, loss=0.255]"
     ]
    },
    {
     "name": "stdout",
     "output_type": "stream",
     "text": [
      "loss: 0.2550441324710846\n"
     ]
    },
    {
     "name": "stderr",
     "output_type": "stream",
     "text": [
      "Train epoch 2:  76%|███████▌  | 27992/37020 [05:20<01:42, 87.67it/s, loss=0.257]"
     ]
    },
    {
     "name": "stdout",
     "output_type": "stream",
     "text": [
      "loss: 0.2567431926727295\n"
     ]
    },
    {
     "name": "stderr",
     "output_type": "stream",
     "text": [
      "Train epoch 2:  78%|███████▊  | 28997/37020 [05:31<01:20, 99.06it/s, loss=0.291]"
     ]
    },
    {
     "name": "stdout",
     "output_type": "stream",
     "text": [
      "loss: 0.29072290658950806\n"
     ]
    },
    {
     "name": "stderr",
     "output_type": "stream",
     "text": [
      "Train epoch 2:  81%|████████  | 29989/37020 [05:42<01:20, 87.33it/s, loss=0.342] "
     ]
    },
    {
     "name": "stdout",
     "output_type": "stream",
     "text": [
      "loss: 0.34191179275512695\n"
     ]
    },
    {
     "name": "stderr",
     "output_type": "stream",
     "text": [
      "Train epoch 2:  84%|████████▎ | 30997/37020 [05:54<01:09, 86.56it/s, loss=0.372]"
     ]
    },
    {
     "name": "stdout",
     "output_type": "stream",
     "text": [
      "loss: 0.37162697315216064\n"
     ]
    },
    {
     "name": "stderr",
     "output_type": "stream",
     "text": [
      "Train epoch 2:  86%|████████▋ | 31996/37020 [06:05<00:58, 85.65it/s, loss=0.231]"
     ]
    },
    {
     "name": "stdout",
     "output_type": "stream",
     "text": [
      "loss: 0.2311200350522995\n"
     ]
    },
    {
     "name": "stderr",
     "output_type": "stream",
     "text": [
      "Train epoch 2:  89%|████████▉ | 32995/37020 [06:17<00:46, 86.53it/s, loss=0.215]"
     ]
    },
    {
     "name": "stdout",
     "output_type": "stream",
     "text": [
      "loss: 0.21508999168872833\n"
     ]
    },
    {
     "name": "stderr",
     "output_type": "stream",
     "text": [
      "Train epoch 2:  92%|█████████▏| 33994/37020 [06:28<00:34, 88.64it/s, loss=0.275]"
     ]
    },
    {
     "name": "stdout",
     "output_type": "stream",
     "text": [
      "loss: 0.27513208985328674\n"
     ]
    },
    {
     "name": "stderr",
     "output_type": "stream",
     "text": [
      "Train epoch 2:  95%|█████████▍| 34994/37020 [06:40<00:23, 87.79it/s, loss=0.281]"
     ]
    },
    {
     "name": "stdout",
     "output_type": "stream",
     "text": [
      "loss: 0.28061652183532715\n"
     ]
    },
    {
     "name": "stderr",
     "output_type": "stream",
     "text": [
      "Train epoch 2:  97%|█████████▋| 35993/37020 [06:52<00:11, 86.87it/s, loss=0.215]"
     ]
    },
    {
     "name": "stdout",
     "output_type": "stream",
     "text": [
      "loss: 0.21535728871822357\n"
     ]
    },
    {
     "name": "stderr",
     "output_type": "stream",
     "text": [
      "Train epoch 2: 100%|█████████▉| 36992/37020 [07:03<00:00, 81.63it/s, loss=0.224]"
     ]
    },
    {
     "name": "stdout",
     "output_type": "stream",
     "text": [
      "loss: 0.2243223637342453\n"
     ]
    },
    {
     "name": "stderr",
     "output_type": "stream",
     "text": [
      "Train epoch 2: 100%|██████████| 37020/37020 [07:04<00:00, 87.23it/s, loss=0.224]\n",
      "Validation epoch 2:   0%|          | 1/4114 [00:00<49:16,  1.39it/s]"
     ]
    },
    {
     "name": "stdout",
     "output_type": "stream",
     "text": [
      "prediction: 125\n",
      "batch_y: 125\n",
      "prediction: -31\n",
      "batch_y: -31\n",
      "prediction: 657\n",
      "batch_y: 661\n",
      "prediction: -35\n",
      "batch_y: -35\n",
      "prediction: 324\n",
      "batch_y: 324\n"
     ]
    },
    {
     "name": "stderr",
     "output_type": "stream",
     "text": [
      "Validation epoch 2: 100%|██████████| 4114/4114 [10:32<00:00,  6.50it/s]"
     ]
    },
    {
     "name": "stdout",
     "output_type": "stream",
     "text": [
      "EM Accuracy: 0.6390617283950617\n"
     ]
    },
    {
     "name": "stderr",
     "output_type": "stream",
     "text": [
      "\n"
     ]
    }
   ],
   "source": [
    "# In here I needed some help from Gemini to see how to make the mask to not pass over the characters before '=' to the loss function\n",
    "# Also to make my data be in the correct tensor dimension\n",
    "from tqdm import tqdm\n",
    "from copy import deepcopy\n",
    "model = model.to(device)\n",
    "\n",
    "i = 0\n",
    "for epoch in range(1, epochs+1):\n",
    "    # The process bar\n",
    "    bar = tqdm(dl_train, desc=f\"Train epoch {epoch}\")\n",
    "    for batch_x, batch_y, batch_x_lens, batch_y_lens in bar:\n",
    "        # Write your code here\n",
    "        model.train()\n",
    "        # Clear the gradient\n",
    "        batch_x = batch_x.to(device)\n",
    "        batch_y = batch_y.to(device)\n",
    "        optimizer.zero_grad()\n",
    "        batch_pred_y = model(batch_x, batch_x_lens)\n",
    "        \n",
    "        # Write your code here\n",
    "        # Input the prediction and ground truths to loss function\n",
    "\n",
    "        labels_reshaped = batch_y[:, 1:].contiguous().view(-1)\n",
    "        predictions_reshaped = batch_pred_y[:, :-1, :].contiguous().view(-1, vocab_size).to(device)\n",
    "\n",
    "        # Create mask\n",
    "        equal_token_id = char_to_id['=']\n",
    "        mask = torch.zeros_like(batch_y, dtype=torch.bool, device=device)\n",
    "        for b in range(batch_y.size(0)):\n",
    "            eq_positions = (batch_x[b] == equal_token_id).nonzero(as_tuple=True)[0]\n",
    "            if len(eq_positions) > 0:\n",
    "                eq_idx = eq_positions[0].item()\n",
    "                # the model predicts from eq_idx+1 onward\n",
    "                mask[b, eq_idx + 1 : batch_y_lens[b]] = True\n",
    "\n",
    "        # compute loss on mask\n",
    "        mask = mask[:, 1:]  \n",
    "\n",
    "        # criterion = torch.nn.CrossEntropyLoss(reduction='none', ignore_index=char_to_id['<pad>'])\n",
    "        loss_all = criterion(predictions_reshaped, labels_reshaped)\n",
    "        loss_all = loss_all.view(mask.size())  \n",
    "\n",
    "        # Apply mask\n",
    "        masked_loss = loss_all * mask.float()\n",
    "        loss = masked_loss.sum() / mask.sum()\n",
    "\n",
    "        # Back propagation\n",
    "        loss.backward()\n",
    "        \n",
    "\n",
    "        torch.nn.utils.clip_grad_value_(model.parameters(), grad_clip) # gradient clipping\n",
    "\n",
    "        # Write your code here\n",
    "        # Optimize parameters in the model\n",
    "        optimizer.step()\n",
    "        \n",
    "        i+=1\n",
    "        if i%50==0:\n",
    "            bar.set_postfix(loss = loss.item())\n",
    "        \n",
    "        # Prints loss every 1000 batches\n",
    "        # if i%1000==0:\n",
    "        #     print(f\"loss: {loss.item()}\")\n",
    "        \n",
    "    \n",
    "    # Evaluate your model\n",
    "    matched = 0\n",
    "    total = 0\n",
    "    count = 0\n",
    "    # model.eval()\n",
    "    with torch.no_grad():\n",
    "        bar_eval = tqdm(dl_eval, desc=f\"Validation epoch {epoch}\")\n",
    "        for batch_x, batch_y, batch_x_lens, batch_y_lens in bar_eval:\n",
    "            batch_x = batch_x.to(device)\n",
    "            batch_y = batch_y.to(device)\n",
    "            for b in range(batch_x.size(0)):\n",
    "                total+=1\n",
    "                \n",
    "                # An example of using generator: model.generator('1+1=')\n",
    "                \n",
    "                # Write your code here. Input the batch_x to the model and generate the predictions\n",
    "                input_chars = [id_to_char[idx.item()] for idx in batch_x[b] if idx.item() != char_to_id['<pad>']]\n",
    "                input_str = \"\".join(input_chars).replace(\"<eos>\", \"\")\n",
    "                # print(input_str)\n",
    "                prediction = model.generator(input_str)\n",
    "                prediction_str = \"\".join(prediction)\n",
    "                        \n",
    "                if '=' in prediction_str:\n",
    "                    predicted_answer = prediction_str.split('=')[1].strip()\n",
    "                else:\n",
    "                    predicted_answer = prediction_str.strip()\n",
    "\n",
    "                # prediction_reshaped = prediction.view(-1, vocab_size)\n",
    "                # label_reshaped = batch_y.to(device).view(-1)\n",
    "                \n",
    "                # Write your code here.\n",
    "                # Check whether the prediction match the ground truths\n",
    "                # Compute exact match (EM) on the eval dataset\n",
    "                # EM = correct/total\n",
    "\n",
    "                target_chars = [id_to_char[idx.item()] for idx in batch_y[b] if idx.item() not in [char_to_id['<pad>'], char_to_id['<eos>']]]\n",
    "                target_str = \"\".join(target_chars).strip()\n",
    "\n",
    "                if predicted_answer==target_str:\n",
    "                    matched+=1\n",
    "\n",
    "                if count<5:\n",
    "                    print(f\"prediction: {predicted_answer}\")\n",
    "                    print(f\"batch_y: {target_str}\")\n",
    "                    count+=1\n",
    "\n",
    "        print(f\"EM Accuracy: {matched/total}\")"
   ]
  },
  {
   "cell_type": "code",
   "execution_count": 18,
   "metadata": {},
   "outputs": [
    {
     "name": "stderr",
     "output_type": "stream",
     "text": [
      "Train epoch 1: 100%|██████████| 37020/37020 [06:51<00:00, 89.88it/s, loss=0.321] \n",
      "Validation epoch 1:   0%|          | 1/4114 [00:01<1:13:22,  1.07s/it]"
     ]
    },
    {
     "name": "stdout",
     "output_type": "stream",
     "text": [
      "prediction: 125\n",
      "batch_y: 125\n",
      "prediction: -31\n",
      "batch_y: -31\n",
      "prediction: 657\n",
      "batch_y: 661\n",
      "prediction: -35\n",
      "batch_y: -35\n",
      "prediction: 324\n",
      "batch_y: 324\n"
     ]
    },
    {
     "name": "stderr",
     "output_type": "stream",
     "text": [
      "Validation epoch 1: 100%|██████████| 4114/4114 [10:14<00:00,  6.69it/s]\n"
     ]
    },
    {
     "name": "stdout",
     "output_type": "stream",
     "text": [
      "EM Accuracy: 0.5841025641025641\n"
     ]
    },
    {
     "name": "stderr",
     "output_type": "stream",
     "text": [
      "Train epoch 2: 100%|██████████| 37020/37020 [07:02<00:00, 87.71it/s, loss=0.23]  \n",
      "Validation epoch 2:   0%|          | 1/4114 [00:01<1:13:42,  1.08s/it]"
     ]
    },
    {
     "name": "stdout",
     "output_type": "stream",
     "text": [
      "prediction: 127\n",
      "batch_y: 125\n",
      "prediction: -31\n",
      "batch_y: -31\n",
      "prediction: 667\n",
      "batch_y: 661\n",
      "prediction: -35\n",
      "batch_y: -35\n",
      "prediction: 324\n",
      "batch_y: 324\n"
     ]
    },
    {
     "name": "stderr",
     "output_type": "stream",
     "text": [
      "Validation epoch 2: 100%|██████████| 4114/4114 [10:29<00:00,  6.54it/s]"
     ]
    },
    {
     "name": "stdout",
     "output_type": "stream",
     "text": [
      "EM Accuracy: 0.6735308641975308\n"
     ]
    },
    {
     "name": "stderr",
     "output_type": "stream",
     "text": [
      "\n"
     ]
    }
   ],
   "source": [
    "# In here I needed some help from Gemini to see how to make the mask to not pass over the characters before '=' to the loss function\n",
    "# Also to make my data be in the correct tensor dimension\n",
    "from tqdm import tqdm\n",
    "from copy import deepcopy\n",
    "model = model.to(device)\n",
    "\n",
    "i = 0\n",
    "for epoch in range(1, epochs+1):\n",
    "    # The process bar\n",
    "    bar = tqdm(dl_train, desc=f\"Train epoch {epoch}\")\n",
    "    for batch_x, batch_y, batch_x_lens, batch_y_lens in bar:\n",
    "        # Write your code here\n",
    "        model.train()\n",
    "        # Clear the gradient\n",
    "        batch_x = batch_x.to(device)\n",
    "        batch_y = batch_y.to(device)\n",
    "        optimizer.zero_grad()\n",
    "        batch_pred_y = model(batch_x, batch_x_lens)\n",
    "        \n",
    "        # Write your code here\n",
    "        # Input the prediction and ground truths to loss function\n",
    "\n",
    "        labels_reshaped = batch_y[:, 1:].contiguous().view(-1)\n",
    "        predictions_reshaped = batch_pred_y[:, :-1, :].contiguous().view(-1, vocab_size).to(device)\n",
    "\n",
    "        # Create mask\n",
    "        equal_token_id = char_to_id['=']\n",
    "        mask = torch.zeros_like(batch_y, dtype=torch.bool, device=device)\n",
    "        for b in range(batch_y.size(0)):\n",
    "            eq_positions = (batch_x[b] == equal_token_id).nonzero(as_tuple=True)[0]\n",
    "            if len(eq_positions) > 0:\n",
    "                eq_idx = eq_positions[0].item()\n",
    "                # the model predicts from eq_idx+1 onward\n",
    "                mask[b, eq_idx + 1 : batch_y_lens[b]] = True\n",
    "\n",
    "        # compute loss on mask\n",
    "        mask = mask[:, 1:]  \n",
    "\n",
    "        # criterion = torch.nn.CrossEntropyLoss(reduction='none', ignore_index=char_to_id['<pad>'])\n",
    "        loss_all = criterion(predictions_reshaped, labels_reshaped)\n",
    "        loss_all = loss_all.view(mask.size())  \n",
    "\n",
    "        # Apply mask\n",
    "        masked_loss = loss_all * mask.float()\n",
    "        loss = masked_loss.sum() / mask.sum()\n",
    "\n",
    "        # Back propagation\n",
    "        loss.backward()\n",
    "        \n",
    "\n",
    "        torch.nn.utils.clip_grad_value_(model.parameters(), grad_clip) # gradient clipping\n",
    "\n",
    "        # Write your code here\n",
    "        # Optimize parameters in the model\n",
    "        optimizer.step()\n",
    "        \n",
    "        i+=1\n",
    "        if i%50==0:\n",
    "            bar.set_postfix(loss = loss.item())\n",
    "        \n",
    "        # Prints loss every 1000 batches\n",
    "        # if i%1000==0:\n",
    "        #     print(f\"loss: {loss.item()}\")\n",
    "        \n",
    "    \n",
    "    # Evaluate your model\n",
    "    matched = 0\n",
    "    total = 0\n",
    "    count = 0\n",
    "    # model.eval()\n",
    "    with torch.no_grad():\n",
    "        bar_eval = tqdm(dl_eval, desc=f\"Validation epoch {epoch}\")\n",
    "        for batch_x, batch_y, batch_x_lens, batch_y_lens in bar_eval:\n",
    "            batch_x = batch_x.to(device)\n",
    "            batch_y = batch_y.to(device)\n",
    "            for b in range(batch_x.size(0)):\n",
    "                total+=1\n",
    "                \n",
    "                # An example of using generator: model.generator('1+1=')\n",
    "                \n",
    "                # Write your code here. Input the batch_x to the model and generate the predictions\n",
    "                input_chars = [id_to_char[idx.item()] for idx in batch_x[b] if idx.item() != char_to_id['<pad>']]\n",
    "                input_str = \"\".join(input_chars).replace(\"<eos>\", \"\")\n",
    "                # print(input_str)\n",
    "                prediction = model.generator(input_str)\n",
    "                prediction_str = \"\".join(prediction)\n",
    "                        \n",
    "                if '=' in prediction_str:\n",
    "                    predicted_answer = prediction_str.split('=')[1].strip()\n",
    "                else:\n",
    "                    predicted_answer = prediction_str.strip()\n",
    "\n",
    "                # prediction_reshaped = prediction.view(-1, vocab_size)\n",
    "                # label_reshaped = batch_y.to(device).view(-1)\n",
    "                \n",
    "                # Write your code here.\n",
    "                # Check whether the prediction match the ground truths\n",
    "                # Compute exact match (EM) on the eval dataset\n",
    "                # EM = correct/total\n",
    "\n",
    "                target_chars = [id_to_char[idx.item()] for idx in batch_y[b] if idx.item() not in [char_to_id['<pad>'], char_to_id['<eos>']]]\n",
    "                target_str = \"\".join(target_chars).strip()\n",
    "\n",
    "                if predicted_answer==target_str:\n",
    "                    matched+=1\n",
    "\n",
    "                if count<5:\n",
    "                    print(f\"prediction: {predicted_answer}\")\n",
    "                    print(f\"batch_y: {target_str}\")\n",
    "                    count+=1\n",
    "\n",
    "        print(f\"EM Accuracy: {matched/total}\")"
   ]
  },
  {
   "cell_type": "code",
   "execution_count": 19,
   "metadata": {},
   "outputs": [
    {
     "name": "stderr",
     "output_type": "stream",
     "text": [
      "Train epoch 1:   0%|          | 0/37020 [00:00<?, ?it/s]/tmp/ipykernel_2603935/3543270240.py:66: FutureWarning: The behavior of DataFrame concatenation with empty or all-NA entries is deprecated. In a future version, this will no longer exclude empty or all-NA columns when determining the result dtypes. To retain the old behavior, exclude the relevant entries before the concat operation.\n",
      "  batches_loss = pd.concat([batches_loss, pd.DataFrame([[epoch, i, loss.item()]], columns=[\"epoch\", \"batch_no\", \"loss\"])], ignore_index=True)\n",
      "Train epoch 1: 100%|██████████| 37020/37020 [07:01<00:00, 87.84it/s, loss=0.191] \n",
      "Validation epoch 1:   0%|          | 1/4114 [00:01<1:12:28,  1.06s/it]"
     ]
    },
    {
     "name": "stdout",
     "output_type": "stream",
     "text": [
      "prediction: 125\n",
      "batch_y: 125\n",
      "prediction: -31\n",
      "batch_y: -31\n",
      "prediction: 667\n",
      "batch_y: 661\n",
      "prediction: -35\n",
      "batch_y: -35\n",
      "prediction: 324\n",
      "batch_y: 324\n"
     ]
    },
    {
     "name": "stderr",
     "output_type": "stream",
     "text": [
      "Validation epoch 1: 100%|██████████| 4114/4114 [10:32<00:00,  6.50it/s]\n",
      "/tmp/ipykernel_2603935/3543270240.py:121: FutureWarning: The behavior of DataFrame concatenation with empty or all-NA entries is deprecated. In a future version, this will no longer exclude empty or all-NA columns when determining the result dtypes. To retain the old behavior, exclude the relevant entries before the concat operation.\n",
      "  epoch_val_acc = pd.concat([epoch_val_acc, pd.DataFrame([[epoch, matched/total]],columns=[\"epoch\", \"accuracy\"])], ignore_index = True)\n"
     ]
    },
    {
     "name": "stdout",
     "output_type": "stream",
     "text": [
      "EM Accuracy: 0.7317492877492877\n"
     ]
    },
    {
     "name": "stderr",
     "output_type": "stream",
     "text": [
      "Train epoch 2: 100%|██████████| 37020/37020 [07:00<00:00, 88.01it/s, loss=0.209] \n",
      "Validation epoch 2:   0%|          | 1/4114 [00:01<1:11:32,  1.04s/it]"
     ]
    },
    {
     "name": "stdout",
     "output_type": "stream",
     "text": [
      "prediction: 125\n",
      "batch_y: 125\n",
      "prediction: -31\n",
      "batch_y: -31\n",
      "prediction: 667\n",
      "batch_y: 661\n",
      "prediction: -35\n",
      "batch_y: -35\n",
      "prediction: 324\n",
      "batch_y: 324\n"
     ]
    },
    {
     "name": "stderr",
     "output_type": "stream",
     "text": [
      "Validation epoch 2: 100%|██████████| 4114/4114 [10:15<00:00,  6.68it/s]"
     ]
    },
    {
     "name": "stdout",
     "output_type": "stream",
     "text": [
      "EM Accuracy: 0.7584881291547958\n"
     ]
    },
    {
     "name": "stderr",
     "output_type": "stream",
     "text": [
      "\n"
     ]
    }
   ],
   "source": [
    "# In here I needed some help from Gemini to see how to make the mask to not pass over the characters before '=' to the loss function\n",
    "# Also to make my data be in the correct tensor dimension\n",
    "from tqdm import tqdm\n",
    "from copy import deepcopy\n",
    "import pandas as pd\n",
    "model = model.to(device)\n",
    "\n",
    "i = 0\n",
    "batches_loss = pd.DataFrame(columns=[\"epoch\", \"batch_no\", \"loss\"])\n",
    "epoch_val_acc = pd.DataFrame(columns=[\"epoch\", \"accuracy\"])\n",
    "\n",
    "for epoch in range(1, epochs+1):\n",
    "    # The process bar\n",
    "    bar = tqdm(dl_train, desc=f\"Train epoch {epoch}\")\n",
    "    for batch_x, batch_y, batch_x_lens, batch_y_lens in bar:\n",
    "        # Write your code here\n",
    "        model.train()\n",
    "        # Clear the gradient\n",
    "        batch_x = batch_x.to(device)\n",
    "        batch_y = batch_y.to(device)\n",
    "        optimizer.zero_grad()\n",
    "        batch_pred_y = model(batch_x, batch_x_lens)\n",
    "        \n",
    "        # Write your code here\n",
    "        # Input the prediction and ground truths to loss function\n",
    "\n",
    "        labels_reshaped = batch_y[:, 1:].contiguous().view(-1)\n",
    "        predictions_reshaped = batch_pred_y[:, :-1, :].contiguous().view(-1, vocab_size).to(device)\n",
    "\n",
    "        # Create mask\n",
    "        equal_token_id = char_to_id['=']\n",
    "        mask = torch.zeros_like(batch_y, dtype=torch.bool, device=device)\n",
    "        for b in range(batch_y.size(0)):\n",
    "            eq_positions = (batch_x[b] == equal_token_id).nonzero(as_tuple=True)[0]\n",
    "            if len(eq_positions) > 0:\n",
    "                eq_idx = eq_positions[0].item()\n",
    "                # the model predicts from eq_idx+1 onward\n",
    "                mask[b, eq_idx + 1 : batch_y_lens[b]] = True\n",
    "\n",
    "        # compute loss on mask\n",
    "        mask = mask[:, 1:]  \n",
    "\n",
    "        # criterion = torch.nn.CrossEntropyLoss(reduction='none', ignore_index=char_to_id['<pad>'])\n",
    "        loss_all = criterion(predictions_reshaped, labels_reshaped)\n",
    "        loss_all = loss_all.view(mask.size())  \n",
    "\n",
    "        # Apply mask\n",
    "        masked_loss = loss_all * mask.float()\n",
    "        loss = masked_loss.sum() / mask.sum()\n",
    "\n",
    "        # Back propagation\n",
    "        loss.backward()\n",
    "        \n",
    "\n",
    "        torch.nn.utils.clip_grad_value_(model.parameters(), grad_clip) # gradient clipping\n",
    "\n",
    "        # Write your code here\n",
    "        # Optimize parameters in the model\n",
    "        optimizer.step()\n",
    "        \n",
    "        i+=1\n",
    "        if i%50==0:\n",
    "            bar.set_postfix(loss = loss.item())\n",
    "        \n",
    "        if i == 1:\n",
    "            batches_loss = pd.concat([batches_loss, pd.DataFrame([[epoch, i, loss.item()]], columns=[\"epoch\", \"batch_no\", \"loss\"])], ignore_index=True)\n",
    "            \n",
    "        # Prints loss every 1000 batches\n",
    "        if i%1000==0:\n",
    "            batches_loss = pd.concat([batches_loss, pd.DataFrame([[epoch, i, loss.item()]], columns=[\"epoch\", \"batch_no\", \"loss\"])], ignore_index=True)\n",
    "            # print(f\"loss: {loss.item()}\")\n",
    "        \n",
    "    \n",
    "    # Evaluate your model\n",
    "    matched = 0\n",
    "    total = 0\n",
    "    count = 0\n",
    "    # model.eval()\n",
    "    with torch.no_grad():\n",
    "        bar_eval = tqdm(dl_eval, desc=f\"Validation epoch {epoch}\")\n",
    "        for batch_x, batch_y, batch_x_lens, batch_y_lens in bar_eval:\n",
    "            batch_x = batch_x.to(device)\n",
    "            batch_y = batch_y.to(device)\n",
    "            for b in range(batch_x.size(0)):\n",
    "                total+=1\n",
    "                \n",
    "                # An example of using generator: model.generator('1+1=')\n",
    "                \n",
    "                # Write your code here. Input the batch_x to the model and generate the predictions\n",
    "                input_chars = [id_to_char[idx.item()] for idx in batch_x[b] if idx.item() != char_to_id['<pad>']]\n",
    "                input_str = \"\".join(input_chars).replace(\"<eos>\", \"\")\n",
    "                # print(input_str)\n",
    "                prediction = model.generator(input_str)\n",
    "                prediction_str = \"\".join(prediction)\n",
    "                        \n",
    "                if '=' in prediction_str:\n",
    "                    predicted_answer = prediction_str.split('=')[1].strip()\n",
    "                else:\n",
    "                    predicted_answer = prediction_str.strip()\n",
    "\n",
    "                # prediction_reshaped = prediction.view(-1, vocab_size)\n",
    "                # label_reshaped = batch_y.to(device).view(-1)\n",
    "                \n",
    "                # Write your code here.\n",
    "                # Check whether the prediction match the ground truths\n",
    "                # Compute exact match (EM) on the eval dataset\n",
    "                # EM = correct/total\n",
    "\n",
    "                target_chars = [id_to_char[idx.item()] for idx in batch_y[b] if idx.item() not in [char_to_id['<pad>'], char_to_id['<eos>']]]\n",
    "                target_str = \"\".join(target_chars).strip()\n",
    "\n",
    "                if predicted_answer==target_str:\n",
    "                    matched+=1\n",
    "\n",
    "                if count<5:\n",
    "                    print(f\"prediction: {predicted_answer}\")\n",
    "                    print(f\"batch_y: {target_str}\")\n",
    "                    count+=1\n",
    "\n",
    "        print(f\"EM Accuracy: {matched/total}\")\n",
    "        epoch_val_acc = pd.concat([epoch_val_acc, pd.DataFrame([[epoch, matched/total]],columns=[\"epoch\", \"accuracy\"])], ignore_index = True)"
   ]
  },
  {
   "cell_type": "code",
   "execution_count": 27,
   "metadata": {},
   "outputs": [
    {
     "data": {
      "image/png": "[encoded data removed]",
      "text/plain": [
       "<Figure size 1500x700 with 2 Axes>"
      ]
     },
     "metadata": {},
     "output_type": "display_data"
    }
   ],
   "source": [
    "import pandas as pd\n",
    "import matplotlib.pyplot as plt\n",
    "import seaborn as sns\n",
    "import numpy as np\n",
    "import os\n",
    "output_dir = \"./results/baseline_results\"\n",
    "os.makedirs(output_dir, exist_ok=True)\n",
    "\n",
    "batches_loss['global_batch'] = range(len(batches_loss))\n",
    "\n",
    "# Calculate the position for epoch markers\n",
    "epoch_boundaries = batches_loss.groupby('epoch')['global_batch'].min().tolist()\n",
    "epoch_boundaries.append(len(batches_loss)) \n",
    "\n",
    "# Get the center of each epoch\n",
    "epoch_centers = [(epoch_boundaries[i] + epoch_boundaries[i+1]) / 2 for i in range(len(epoch_boundaries)-1)]\n",
    "\n",
    "\n",
    "# Create the plot\n",
    "fig, ax1 = plt.subplots(figsize=(15, 7))\n",
    "\n",
    "# Plot batch loss on the primary y-axis\n",
    "color = 'tab:red'\n",
    "ax1.set_xlabel('Global Batch Number')\n",
    "ax1.set_ylabel('Batch Loss', color=color)\n",
    "sns.lineplot(data=batches_loss, x='global_batch', y='loss', ax=ax1, color=color, alpha=0.7, label='Batch Loss')\n",
    "ax1.tick_params(axis='y', labelcolor=color)\n",
    "ax1.set_ylim(bottom=min(batches_loss[\"loss\"]))\n",
    "\n",
    "# Create a secondary y-axis for accuracy\n",
    "ax2 = ax1.twinx()\n",
    "color = 'tab:blue'\n",
    "ax2.set_ylabel('Validation Accuracy', color=color)\n",
    "sns.lineplot(data=epoch_val_acc, x=epoch_centers, y='accuracy', ax=ax2, color=color, marker='o', linestyle='--', label='Validation Accuracy')\n",
    "ax2.tick_params(axis='y', labelcolor=color)\n",
    "ax2.set_ylim(min(epoch_val_acc[\"accuracy\"])-0.05, max(epoch_val_acc[\"accuracy\"])+0.05)\n",
    "\n",
    "# Add vertical lines and text for epoch boundaries\n",
    "for i, boundary in enumerate(epoch_boundaries[:-1]):\n",
    "    ax1.axvline(x=boundary, color='gray', linestyle='--', linewidth=1)\n",
    "    # Add text label for the epoch\n",
    "    ax1.text(epoch_centers[i], ax1.get_ylim()[1] * 0.95, f'Epoch {i+1}', horizontalalignment='center', color='black')\n",
    "\n",
    "plt.title('Baseline Results - Batch Loss and Validation Accuracy Over Training')\n",
    "fig.tight_layout()\n",
    "plt.savefig(f\"{output_dir}/loss_and_acc_model.png\")\n",
    "plt.show()"
   ]
  },
  {
   "cell_type": "code",
   "execution_count": 28,
   "metadata": {},
   "outputs": [],
   "source": [
    "batches_loss.to_csv(f\"{output_dir}/batches_loss.csv\")\n",
    "epoch_val_acc.to_csv(f\"{output_dir}/epoch_val_acc.csv\")"
   ]
  }
 ],
 "metadata": {
  "kernelspec": {
   "display_name": "Python (nlp-exercise-2)",
   "language": "python",
   "name": "nlp-exercise-2"
  },
  "language_info": {
   "codemirror_mode": {
    "name": "ipython",
    "version": 3
   },
   "file_extension": ".py",
   "mimetype": "text/x-python",
   "name": "python",
   "nbconvert_exporter": "python",
   "pygments_lexer": "ipython3",
   "version": "3.11.14"
  }
 },
 "nbformat": 4,
 "nbformat_minor": 4
}
